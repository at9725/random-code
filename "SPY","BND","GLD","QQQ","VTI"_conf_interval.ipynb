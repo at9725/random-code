{
  "nbformat": 4,
  "nbformat_minor": 0,
  "metadata": {
    "colab": {
      "provenance": [],
      "authorship_tag": "ABX9TyOFhZ9V+AKiy18Gqpkl3NU+",
      "include_colab_link": true
    },
    "kernelspec": {
      "name": "python3",
      "display_name": "Python 3"
    },
    "language_info": {
      "name": "python"
    }
  },
  "cells": [
    {
      "cell_type": "markdown",
      "metadata": {
        "id": "view-in-github",
        "colab_type": "text"
      },
      "source": [
        "<a href=\"https://colab.research.google.com/github/at9725/random-code/blob/main/%22SPY%22%2C%22BND%22%2C%22GLD%22%2C%22QQQ%22%2C%22VTI%22_conf_interval.ipynb\" target=\"_parent\"><img src=\"https://colab.research.google.com/assets/colab-badge.svg\" alt=\"Open In Colab\"/></a>"
      ]
    },
    {
      "cell_type": "code",
      "execution_count": null,
      "metadata": {
        "id": "6YTZ119onJIt"
      },
      "outputs": [],
      "source": [
        "import numpy as np\n",
        "import pandas as pd\n",
        "import datetime as dt\n",
        "import yfinance as yf\n",
        "import matplotlib.pyplot  as plt\n",
        "from scipy.stats import norm"
      ]
    },
    {
      "cell_type": "code",
      "source": [
        "years = 15\n",
        "\n",
        "endDate =dt.datetime.now()\n",
        "startDate = endDate -dt.timedelta(days=365*years)"
      ],
      "metadata": {
        "id": "iYEMRhtwniM8"
      },
      "execution_count": null,
      "outputs": []
    },
    {
      "cell_type": "code",
      "source": [
        "tickers = [\"SPY\",\"BND\",\"GLD\",\"QQQ\",\"VTI\"]"
      ],
      "metadata": {
        "id": "8EarNER7n2ac"
      },
      "execution_count": null,
      "outputs": []
    },
    {
      "cell_type": "code",
      "source": [
        "adj_close_df = pd.DataFrame()\n",
        "\n",
        "for ticker in tickers:\n",
        "  data = yf.download(ticker, start = startDate, end = endDate)\n",
        "  adj_close_df[ticker] = data['Adj Close']\n",
        "\n",
        "  print(adj_close_df)"
      ],
      "metadata": {
        "colab": {
          "base_uri": "https://localhost:8080/"
        },
        "id": "0PcOSb4FoFa0",
        "outputId": "1c733baf-c01d-419b-c7fc-71076722d422"
      },
      "execution_count": null,
      "outputs": [
        {
          "output_type": "stream",
          "name": "stderr",
          "text": [
            "\r[*********************100%***********************]  1 of 1 completed\n"
          ]
        },
        {
          "output_type": "stream",
          "name": "stdout",
          "text": [
            "                   SPY\n",
            "Date                  \n",
            "2010-01-11   87.089180\n",
            "2010-01-12   86.276955\n",
            "2010-01-13   87.005684\n",
            "2010-01-14   87.240997\n",
            "2010-01-15   86.261780\n",
            "...                ...\n",
            "2024-12-27  595.010010\n",
            "2024-12-30  588.219971\n",
            "2024-12-31  586.080017\n",
            "2025-01-02  584.640015\n",
            "2025-01-03  591.950012\n",
            "\n",
            "[3771 rows x 1 columns]\n"
          ]
        },
        {
          "output_type": "stream",
          "name": "stderr",
          "text": [
            "\r[*********************100%***********************]  1 of 1 completed\n"
          ]
        },
        {
          "output_type": "stream",
          "name": "stdout",
          "text": [
            "                   SPY        BND\n",
            "Date                             \n",
            "2010-01-11   87.089180  51.566036\n",
            "2010-01-12   86.276955  51.762016\n",
            "2010-01-13   87.005684  51.644421\n",
            "2010-01-14   87.240997  51.768539\n",
            "2010-01-15   86.261780  51.801212\n",
            "...                ...        ...\n",
            "2024-12-27  595.010010  71.750000\n",
            "2024-12-30  588.219971  72.029999\n",
            "2024-12-31  586.080017  71.910004\n",
            "2025-01-02  584.640015  71.940002\n",
            "2025-01-03  591.950012  71.849998\n",
            "\n",
            "[3771 rows x 2 columns]\n"
          ]
        },
        {
          "output_type": "stream",
          "name": "stderr",
          "text": [
            "\r[*********************100%***********************]  1 of 1 completed\n"
          ]
        },
        {
          "output_type": "stream",
          "name": "stdout",
          "text": [
            "                   SPY        BND         GLD\n",
            "Date                                         \n",
            "2010-01-11   87.089180  51.566036  112.849998\n",
            "2010-01-12   86.276955  51.762016  110.489998\n",
            "2010-01-13   87.005684  51.644421  111.540001\n",
            "2010-01-14   87.240997  51.768539  112.029999\n",
            "2010-01-15   86.261780  51.801212  110.860001\n",
            "...                ...        ...         ...\n",
            "2024-12-27  595.010010  71.750000  241.399994\n",
            "2024-12-30  588.219971  72.029999  240.630005\n",
            "2024-12-31  586.080017  71.910004  242.130005\n",
            "2025-01-02  584.640015  71.940002  245.419998\n",
            "2025-01-03  591.950012  71.849998  243.490005\n",
            "\n",
            "[3771 rows x 3 columns]\n"
          ]
        },
        {
          "output_type": "stream",
          "name": "stderr",
          "text": [
            "\r[*********************100%***********************]  1 of 1 completed\n"
          ]
        },
        {
          "output_type": "stream",
          "name": "stdout",
          "text": [
            "                   SPY        BND         GLD         QQQ\n",
            "Date                                                     \n",
            "2010-01-11   87.089180  51.566036  112.849998   40.493790\n",
            "2010-01-12   86.276955  51.762016  110.489998   39.987186\n",
            "2010-01-13   87.005684  51.644421  111.540001   40.485031\n",
            "2010-01-14   87.240997  51.768539  112.029999   40.519989\n",
            "2010-01-15   86.261780  51.801212  110.860001   40.048313\n",
            "...                ...        ...         ...         ...\n",
            "2024-12-27  595.010010  71.750000  241.399994  522.559998\n",
            "2024-12-30  588.219971  72.029999  240.630005  515.609985\n",
            "2024-12-31  586.080017  71.910004  242.130005  511.230011\n",
            "2025-01-02  584.640015  71.940002  245.419998  510.230011\n",
            "2025-01-03  591.950012  71.849998  243.490005  518.580017\n",
            "\n",
            "[3771 rows x 4 columns]\n"
          ]
        },
        {
          "output_type": "stream",
          "name": "stderr",
          "text": [
            "\r[*********************100%***********************]  1 of 1 completed"
          ]
        },
        {
          "output_type": "stream",
          "name": "stdout",
          "text": [
            "                   SPY        BND         GLD         QQQ         VTI\n",
            "Date                                                                 \n",
            "2010-01-11   87.089180  51.566036  112.849998   40.493790   44.365936\n",
            "2010-01-12   86.276955  51.762016  110.489998   39.987186   43.907940\n",
            "2010-01-13   87.005684  51.644421  111.540001   40.485031   44.320137\n",
            "2010-01-14   87.240997  51.768539  112.029999   40.519989   44.396481\n",
            "2010-01-15   86.261780  51.801212  110.860001   40.048313   43.892666\n",
            "...                ...        ...         ...         ...         ...\n",
            "2024-12-27  595.010010  71.750000  241.399994  522.559998  294.070007\n",
            "2024-12-30  588.219971  72.029999  240.630005  515.609985  290.820007\n",
            "2024-12-31  586.080017  71.910004  242.130005  511.230011  289.809998\n",
            "2025-01-02  584.640015  71.940002  245.419998  510.230011  289.260010\n",
            "2025-01-03  591.950012  71.849998  243.490005  518.580017  293.059998\n",
            "\n",
            "[3771 rows x 5 columns]\n"
          ]
        },
        {
          "output_type": "stream",
          "name": "stderr",
          "text": [
            "\n"
          ]
        }
      ]
    },
    {
      "cell_type": "code",
      "source": [
        "log_returns = np.log(adj_close_df/adj_close_df.shift(1))\n",
        "log_returns = log_returns.dropna()\n",
        "\n",
        "print(log_returns)"
      ],
      "metadata": {
        "colab": {
          "base_uri": "https://localhost:8080/"
        },
        "id": "uNTv6v0gpG9k",
        "outputId": "9f83d648-0b11-4943-c18b-62f3946f03ef"
      },
      "execution_count": null,
      "outputs": [
        {
          "output_type": "stream",
          "name": "stdout",
          "text": [
            "                 SPY       BND       GLD       QQQ       VTI\n",
            "Date                                                        \n",
            "2010-01-12 -0.009370  0.003793 -0.021134 -0.012590 -0.010377\n",
            "2010-01-13  0.008411 -0.002274  0.009458  0.012373  0.009344\n",
            "2010-01-14  0.002701  0.002400  0.004383  0.000863  0.001721\n",
            "2010-01-15 -0.011288  0.000631 -0.010499 -0.011709 -0.011413\n",
            "2010-01-19  0.012418 -0.000505  0.005936  0.016011  0.013131\n",
            "...              ...       ...       ...       ...       ...\n",
            "2024-12-27 -0.010582 -0.002088 -0.006894 -0.013382 -0.010890\n",
            "2024-12-30 -0.011477  0.003895 -0.003195 -0.013389 -0.011113\n",
            "2024-12-31 -0.003645 -0.001667  0.006214 -0.008531 -0.003479\n",
            "2025-01-02 -0.002460  0.000417  0.013496 -0.001958 -0.001900\n",
            "2025-01-03  0.012426 -0.001252 -0.007895  0.016233  0.013051\n",
            "\n",
            "[3770 rows x 5 columns]\n"
          ]
        }
      ]
    },
    {
      "cell_type": "code",
      "source": [
        "def expected_return(weights, log_returns):\n",
        "  return np.sum(log_returns.mean()*weights)"
      ],
      "metadata": {
        "id": "NA4DgPnUuViP"
      },
      "execution_count": null,
      "outputs": []
    },
    {
      "cell_type": "code",
      "source": [
        "def standard_deviation(weights,cov_matrix):\n",
        "  variance = weights.T @ cov_matrix @ weights\n",
        "  return np.sqrt(variance)\n"
      ],
      "metadata": {
        "id": "aMw9lWdPunRu"
      },
      "execution_count": null,
      "outputs": []
    },
    {
      "cell_type": "code",
      "source": [
        "cov_matrix = log_returns.cov()\n",
        "print(cov_matrix)"
      ],
      "metadata": {
        "colab": {
          "base_uri": "https://localhost:8080/"
        },
        "id": "egHX_H8mvDEd",
        "outputId": "7817cc56-f075-4fe6-e3ed-d91cb181d32b"
      },
      "execution_count": null,
      "outputs": [
        {
          "output_type": "stream",
          "name": "stdout",
          "text": [
            "              SPY           BND       GLD           QQQ           VTI\n",
            "SPY  1.161710e-04  1.162375e-07  0.000006  1.292191e-04  1.186151e-04\n",
            "BND  1.162375e-07  9.346687e-06  0.000009  9.917402e-07  3.142707e-07\n",
            "GLD  5.776850e-06  9.018624e-06  0.000096  7.058761e-06  6.334463e-06\n",
            "QQQ  1.292191e-04  9.917402e-07  0.000007  1.666444e-04  1.319818e-04\n",
            "VTI  1.186151e-04  3.142707e-07  0.000006  1.319818e-04  1.220872e-04\n"
          ]
        }
      ]
    },
    {
      "cell_type": "code",
      "source": [
        "portfolio_value = 1000000\n",
        "\n",
        "weights = np.array([1/len(tickers)]*len(tickers))\n",
        "\n",
        "portfolio_expected_return = expected_return(weights,log_returns)\n",
        "\n",
        "portfolio_std_dev = standard_deviation(weights,cov_matrix)\n",
        "\n",
        "print(portfolio_expected_return)\n",
        "print(portfolio_std_dev)\n"
      ],
      "metadata": {
        "colab": {
          "base_uri": "https://localhost:8080/"
        },
        "id": "NIa_84A-vP23",
        "outputId": "1c4906ab-6264-4f63-fca3-56b81a746f18"
      },
      "execution_count": null,
      "outputs": [
        {
          "output_type": "stream",
          "name": "stdout",
          "text": [
            "0.0003954946630886245\n",
            "0.007290644408378793\n"
          ]
        }
      ]
    },
    {
      "cell_type": "code",
      "source": [
        "def random_z_score():\n",
        "  return np.random.normal(0,1)"
      ],
      "metadata": {
        "id": "fyRhQXDMGYSF"
      },
      "execution_count": null,
      "outputs": []
    },
    {
      "cell_type": "code",
      "source": [
        "days = 5\n",
        "\n",
        "def scenario_gain_loss(portfolio_value, portfolio_std_dev, z_score,days):\n",
        "  return portfolio_value * portfolio_expected_return * days + portfolio_value * portfolio_std_dev * z_score * np.sqrt(days)"
      ],
      "metadata": {
        "id": "a9mK2iA3Gg5W"
      },
      "execution_count": null,
      "outputs": []
    },
    {
      "cell_type": "code",
      "source": [
        "simulations = 10000\n",
        "\n",
        "scenarioReturn= []\n",
        "\n",
        "for i in range(simulations):\n",
        "  z_score = random_z_score()\n",
        "  scenarioReturn.append(scenario_gain_loss(portfolio_value,portfolio_std_dev,z_score,days))"
      ],
      "metadata": {
        "id": "ds2XFJ1BHZzr"
      },
      "execution_count": null,
      "outputs": []
    },
    {
      "cell_type": "code",
      "source": [
        "confidence_interval = 0.95\n",
        "\n",
        "VaR = -np.percentile(scenarioReturn, 100*(1-confidence_interval))\n",
        "\n",
        "print(VaR)"
      ],
      "metadata": {
        "colab": {
          "base_uri": "https://localhost:8080/"
        },
        "id": "W-PhTR0nHmIx",
        "outputId": "c0720c00-8137-4739-bdbe-ec6dc4233052"
      },
      "execution_count": null,
      "outputs": [
        {
          "output_type": "stream",
          "name": "stdout",
          "text": [
            "24829.0201361743\n"
          ]
        }
      ]
    },
    {
      "cell_type": "code",
      "source": [
        "plt.hist(scenarioReturn, bins=50, density=True)\n",
        "plt.xlabel('Scenario Gain/loss ($)')\n",
        "plt.ylabel('Frequency')\n",
        "plt.title('Distribution of Portfolio Gain/Loss {days} Days')\n",
        "plt.axvline(-VaR, color='r', linestyle='dashed', linewidth=2, label=f'VaR at {confidence_interval*100}% confidence level')\n",
        "plt.legend()\n",
        "plt.show()\n"
      ],
      "metadata": {
        "colab": {
          "base_uri": "https://localhost:8080/",
          "height": 472
        },
        "id": "C7xrr8POLJgI",
        "outputId": "eb70c3c9-4d90-4db3-90f1-21d41ce222fe"
      },
      "execution_count": null,
      "outputs": [
        {
          "output_type": "display_data",
          "data": {
            "text/plain": [
              "<Figure size 640x480 with 1 Axes>"
            ],
            "image/png": "[encoded data removed]"
          },
          "metadata": {}
        }
      ]
    }
  ]
}