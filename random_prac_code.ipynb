{
  "nbformat": 4,
  "nbformat_minor": 0,
  "metadata": {
    "colab": {
      "provenance": [],
      "authorship_tag": "ABX9TyPTeUUZiCrkJvOmpuKCkTpV",
      "include_colab_link": true
    },
    "kernelspec": {
      "name": "python3",
      "display_name": "Python 3"
    },
    "language_info": {
      "name": "python"
    }
  },
  "cells": [
    {
      "cell_type": "markdown",
      "metadata": {
        "id": "view-in-github",
        "colab_type": "text"
      },
      "source": [
        "<a href=\"https://colab.research.google.com/github/at9725/random-code/blob/main/random_prac_code.ipynb\" target=\"_parent\"><img src=\"https://colab.research.google.com/assets/colab-badge.svg\" alt=\"Open In Colab\"/></a>"
      ]
    },
    {
      "cell_type": "code",
      "execution_count": null,
      "metadata": {
        "colab": {
          "base_uri": "https://localhost:8080/"
        },
        "id": "MxOnqPAfVm4v",
        "outputId": "5f4ebb72-2cb9-4397-d828-71ba869d874d"
      },
      "outputs": [
        {
          "output_type": "execute_result",
          "data": {
            "text/plain": [
              "333"
            ]
          },
          "metadata": {},
          "execution_count": 7
        }
      ],
      "source": [
        "googol = 10 ** 100\n",
        "googol\n",
        "\n",
        "googol.bit_length()"
      ]
    },
    {
      "cell_type": "code",
      "source": [
        "import decimal\n",
        "from decimal  import Decimal\n",
        "\n",
        "decimal.getcontext()"
      ],
      "metadata": {
        "colab": {
          "base_uri": "https://localhost:8080/"
        },
        "id": "khKNFrA5WzD0",
        "outputId": "a433765b-c2f3-41e2-c44a-4decba302bb8"
      },
      "execution_count": null,
      "outputs": [
        {
          "output_type": "execute_result",
          "data": {
            "text/plain": [
              "Context(prec=28, rounding=ROUND_HALF_EVEN, Emin=-999999, Emax=999999, capitals=1, clamp=0, flags=[], traps=[InvalidOperation, DivisionByZero, Overflow])"
            ]
          },
          "metadata": {},
          "execution_count": 8
        }
      ]
    },
    {
      "cell_type": "code",
      "source": [
        "d = Decimal(1) / Decimal(11)\n",
        "d"
      ],
      "metadata": {
        "colab": {
          "base_uri": "https://localhost:8080/"
        },
        "id": "9UtqJJp-Xz8L",
        "outputId": "3ff70cff-2506-4611-abea-4780bc94b0ba"
      },
      "execution_count": null,
      "outputs": [
        {
          "output_type": "execute_result",
          "data": {
            "text/plain": [
              "Decimal('0.09090909090909090909090909091')"
            ]
          },
          "metadata": {},
          "execution_count": 10
        }
      ]
    },
    {
      "cell_type": "code",
      "source": [
        "decimal.getcontext().prec = 4\n",
        "e = Decimal(1) / Decimal(11)\n",
        "e"
      ],
      "metadata": {
        "colab": {
          "base_uri": "https://localhost:8080/"
        },
        "id": "WhmvTnV8X_8-",
        "outputId": "120d6805-46c1-48e6-a091-7c8e4c8e41d7"
      },
      "execution_count": null,
      "outputs": [
        {
          "output_type": "execute_result",
          "data": {
            "text/plain": [
              "Decimal('0.09091')"
            ]
          },
          "metadata": {},
          "execution_count": 13
        }
      ]
    },
    {
      "cell_type": "code",
      "source": [
        "decimal.getcontext().prec = 50\n",
        "f= Decimal(1)/Decimal(11)\n",
        "f"
      ],
      "metadata": {
        "colab": {
          "base_uri": "https://localhost:8080/"
        },
        "id": "V4ZLo7uvYSUE",
        "outputId": "7e44a6e9-b993-4e06-83de-f28432dc8803"
      },
      "execution_count": null,
      "outputs": [
        {
          "output_type": "execute_result",
          "data": {
            "text/plain": [
              "Decimal('0.090909090909090909090909090909090909090909090909091')"
            ]
          },
          "metadata": {},
          "execution_count": 15
        }
      ]
    },
    {
      "cell_type": "code",
      "source": [
        "import keyword\n",
        "keyword.kwlist"
      ],
      "metadata": {
        "colab": {
          "base_uri": "https://localhost:8080/"
        },
        "id": "wH7DdlOvYibr",
        "outputId": "85ab6bb2-d86a-40ed-8b1d-d0ced929a5be"
      },
      "execution_count": null,
      "outputs": [
        {
          "output_type": "execute_result",
          "data": {
            "text/plain": [
              "['False',\n",
              " 'None',\n",
              " 'True',\n",
              " 'and',\n",
              " 'as',\n",
              " 'assert',\n",
              " 'async',\n",
              " 'await',\n",
              " 'break',\n",
              " 'class',\n",
              " 'continue',\n",
              " 'def',\n",
              " 'del',\n",
              " 'elif',\n",
              " 'else',\n",
              " 'except',\n",
              " 'finally',\n",
              " 'for',\n",
              " 'from',\n",
              " 'global',\n",
              " 'if',\n",
              " 'import',\n",
              " 'in',\n",
              " 'is',\n",
              " 'lambda',\n",
              " 'nonlocal',\n",
              " 'not',\n",
              " 'or',\n",
              " 'pass',\n",
              " 'raise',\n",
              " 'return',\n",
              " 'try',\n",
              " 'while',\n",
              " 'with',\n",
              " 'yield']"
            ]
          },
          "metadata": {},
          "execution_count": 16
        }
      ]
    },
    {
      "cell_type": "code",
      "source": [
        "(4>3) and (2!=3)"
      ],
      "metadata": {
        "colab": {
          "base_uri": "https://localhost:8080/"
        },
        "id": "4J2YI0PccjNT",
        "outputId": "e5a8b8e8-f233-4449-e436-933badd1d236"
      },
      "execution_count": null,
      "outputs": [
        {
          "output_type": "execute_result",
          "data": {
            "text/plain": [
              "True"
            ]
          },
          "metadata": {},
          "execution_count": 17
        }
      ]
    },
    {
      "cell_type": "code",
      "source": [
        "i = 0\n",
        "while i < 4:\n",
        "  print(\"condition true, \",i)\n",
        "  i += 1"
      ],
      "metadata": {
        "colab": {
          "base_uri": "https://localhost:8080/"
        },
        "id": "RSJr8Qwbc-5B",
        "outputId": "3b6fa6e9-5174-41a3-e9c0-b6b8b9ee2b6a"
      },
      "execution_count": null,
      "outputs": [
        {
          "output_type": "stream",
          "name": "stdout",
          "text": [
            "condition true,  0\n",
            "condition true,  1\n",
            "condition true,  2\n",
            "condition true,  3\n"
          ]
        }
      ]
    },
    {
      "cell_type": "code",
      "source": [
        "t = \"this a string b\"\n",
        "t.split()\n",
        "\n",
        "t.find(\"a\")\n",
        "t.replace(\" \",\"_\")"
      ],
      "metadata": {
        "colab": {
          "base_uri": "https://localhost:8080/",
          "height": 35
        },
        "id": "OR2XW4Eeu7Pa",
        "outputId": "1c942257-ff9f-4693-bff7-7a617471ee43"
      },
      "execution_count": null,
      "outputs": [
        {
          "output_type": "execute_result",
          "data": {
            "text/plain": [
              "'this_a_string_b'"
            ],
            "application/vnd.google.colaboratory.intrinsic+json": {
              "type": "string"
            }
          },
          "metadata": {},
          "execution_count": 7
        }
      ]
    },
    {
      "cell_type": "code",
      "source": [
        "i = 0\n",
        "while i< 4:\n",
        "  print(\"the number is %d\" %i)\n",
        "  i += 1\n",
        "print(\"_________\")\n",
        "\n",
        "\n",
        "i = 0\n",
        "while i < 4:\n",
        "  print(\"the number is {:d}\".format(i))\n",
        "  i += 1\n"
      ],
      "metadata": {
        "colab": {
          "base_uri": "https://localhost:8080/"
        },
        "id": "JQiHkTERwofF",
        "outputId": "f703dcf2-11f9-40d6-8b81-6119d4b14d6c"
      },
      "execution_count": null,
      "outputs": [
        {
          "output_type": "stream",
          "name": "stdout",
          "text": [
            "the number is 0\n",
            "the number is 1\n",
            "the number is 2\n",
            "the number is 3\n",
            "_________\n",
            "the number is 0\n",
            "the number is 1\n",
            "the number is 2\n",
            "the number is 3\n"
          ]
        }
      ]
    },
    {
      "cell_type": "code",
      "source": [
        "import re\n",
        "\n",
        "series = \"\"\"\n",
        " '01/18/2014 13:00:00', 100, '1st';\n",
        " '01/18/2014 13:30:00', 110, '2nd';\n",
        " '01/18/2014 14:00:00', 120, '3rd'\n",
        " \"\"\"\n",
        "\n",
        "dt = re.compile(\"'[0-9/:\\s]+'\")\n",
        "result = dt.findall(series)\n",
        "result"
      ],
      "metadata": {
        "colab": {
          "base_uri": "https://localhost:8080/"
        },
        "id": "5VXQD7cWxfc3",
        "outputId": "16e779be-87ba-4fa4-8d20-ca39aba259a2"
      },
      "execution_count": null,
      "outputs": [
        {
          "output_type": "execute_result",
          "data": {
            "text/plain": [
              "[\"'01/18/2014 13:00:00'\", \"'01/18/2014 13:30:00'\", \"'01/18/2014 14:00:00'\"]"
            ]
          },
          "metadata": {},
          "execution_count": 15
        }
      ]
    },
    {
      "cell_type": "code",
      "source": [
        "from datetime import datetime\n",
        "pydt = datetime.strptime(result[0].replace(\"'\",\"\"),\"%m/%d/%Y %H:%M:%S\")\n",
        "pydt"
      ],
      "metadata": {
        "colab": {
          "base_uri": "https://localhost:8080/"
        },
        "id": "h4k9ES0r88OD",
        "outputId": "bddb962e-6d42-48f3-958c-10a96813b7c8"
      },
      "execution_count": null,
      "outputs": [
        {
          "output_type": "execute_result",
          "data": {
            "text/plain": [
              "datetime.datetime(2014, 1, 18, 13, 0)"
            ]
          },
          "metadata": {},
          "execution_count": 17
        }
      ]
    },
    {
      "cell_type": "code",
      "source": [
        "print(type(pydt))"
      ],
      "metadata": {
        "colab": {
          "base_uri": "https://localhost:8080/"
        },
        "id": "_RH8ASgq9rYn",
        "outputId": "82a19aa5-5d89-4182-bda8-c9d80cdf2f2b"
      },
      "execution_count": null,
      "outputs": [
        {
          "output_type": "stream",
          "name": "stdout",
          "text": [
            "<class 'datetime.datetime'>\n"
          ]
        }
      ]
    },
    {
      "cell_type": "code",
      "source": [],
      "metadata": {
        "id": "WlNNRnWPECJ4"
      },
      "execution_count": null,
      "outputs": []
    }
  ]
}