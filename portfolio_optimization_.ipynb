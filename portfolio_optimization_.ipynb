{
  "nbformat": 4,
  "nbformat_minor": 0,
  "metadata": {
    "colab": {
      "provenance": [],
      "authorship_tag": "ABX9TyN2yj3jE4s8ToQEa7v9Ocpz",
      "include_colab_link": true
    },
    "kernelspec": {
      "name": "python3",
      "display_name": "Python 3"
    },
    "language_info": {
      "name": "python"
    }
  },
  "cells": [
    {
      "cell_type": "markdown",
      "metadata": {
        "id": "view-in-github",
        "colab_type": "text"
      },
      "source": [
        "<a href=\"https://colab.research.google.com/github/at9725/random-code/blob/main/portfolio_optimization_.ipynb\" target=\"_parent\"><img src=\"https://colab.research.google.com/assets/colab-badge.svg\" alt=\"Open In Colab\"/></a>"
      ]
    },
    {
      "cell_type": "code",
      "source": [
        "import yfinance as yf\n",
        "import pandas as pd\n",
        "from datetime import datetime, timedelta\n",
        "import numpy as np\n",
        "from scipy.optimize import minimize\n"
      ],
      "metadata": {
        "id": "kiVRd_w4ZnJ0"
      },
      "execution_count": null,
      "outputs": []
    },
    {
      "cell_type": "code",
      "source": [
        "tickers = ['SPY', 'BND', 'GLD', 'QQQ', 'VTI']"
      ],
      "metadata": {
        "id": "1QQyqCDZad6z"
      },
      "execution_count": null,
      "outputs": []
    },
    {
      "cell_type": "code",
      "source": [
        "end_date = datetime.today()\n"
      ],
      "metadata": {
        "id": "zsAotkjzaw0s"
      },
      "execution_count": null,
      "outputs": []
    },
    {
      "cell_type": "code",
      "source": [
        "start_date = end_date - timedelta(days = 10 * 365)\n",
        "print(start_date)"
      ],
      "metadata": {
        "colab": {
          "base_uri": "https://localhost:8080/"
        },
        "id": "cRy1gKixa6pt",
        "outputId": "ec1114c3-633b-4456-8b22-be1eaf59675c"
      },
      "execution_count": null,
      "outputs": [
        {
          "output_type": "stream",
          "name": "stdout",
          "text": [
            "2015-01-05 02:17:20.873527\n"
          ]
        }
      ]
    },
    {
      "cell_type": "code",
      "source": [
        "adj_close_df = pd.DataFrame()"
      ],
      "metadata": {
        "id": "DKxM5KMxbf-_"
      },
      "execution_count": null,
      "outputs": []
    },
    {
      "cell_type": "code",
      "source": [
        "for ticker in tickers:\n",
        "  data = yf.download(ticker, start = start_date, end = end_date)\n",
        "  adj_close_df[ticker] = data['Adj Close']\n"
      ],
      "metadata": {
        "colab": {
          "base_uri": "https://localhost:8080/"
        },
        "id": "Nm3qConRb805",
        "outputId": "64c56229-cfa4-4c97-be7b-1db942d7d901"
      },
      "execution_count": null,
      "outputs": [
        {
          "output_type": "stream",
          "name": "stderr",
          "text": [
            "[*********************100%***********************]  1 of 1 completed\n",
            "[*********************100%***********************]  1 of 1 completed\n",
            "[*********************100%***********************]  1 of 1 completed\n",
            "[*********************100%***********************]  1 of 1 completed\n",
            "[*********************100%***********************]  1 of 1 completed\n"
          ]
        }
      ]
    },
    {
      "cell_type": "code",
      "source": [
        "print(adj_close_df)"
      ],
      "metadata": {
        "colab": {
          "base_uri": "https://localhost:8080/"
        },
        "id": "JiMYLsvCcWRG",
        "outputId": "1d5ea44a-2019-4ee6-f701-4c6e12c1c531"
      },
      "execution_count": null,
      "outputs": [
        {
          "output_type": "stream",
          "name": "stdout",
          "text": [
            "                   SPY        BND         GLD         QQQ         VTI\n",
            "Date                                                                 \n",
            "2015-01-05  169.475891  62.959358  115.800003   93.867714   87.635689\n",
            "2015-01-06  167.879578  63.141655  117.120003   92.609116   86.777016\n",
            "2015-01-07  169.971695  63.179623  116.430000   93.802948   87.812485\n",
            "2015-01-08  172.987762  63.080868  115.940002   95.598297   89.361450\n",
            "2015-01-09  171.601471  63.187233  117.260002   94.969009   88.620674\n",
            "...                ...        ...         ...         ...         ...\n",
            "2024-12-24  601.299988  71.849998  241.440002  529.960022  297.119995\n",
            "2024-12-26  601.340027  71.900002  243.070007  529.599976  297.290009\n",
            "2024-12-27  595.010010  71.750000  241.399994  522.559998  294.070007\n",
            "2024-12-30  588.219971  72.029999  240.630005  515.609985  290.820007\n",
            "2024-12-31  586.080017  71.910004  242.130005  511.230011  289.809998\n",
            "\n",
            "[2515 rows x 5 columns]\n"
          ]
        }
      ]
    },
    {
      "cell_type": "code",
      "source": [
        "log_returns = np.log(adj_close_df / adj_close_df.shift(1))"
      ],
      "metadata": {
        "id": "QSTGN6tkeFNz"
      },
      "execution_count": null,
      "outputs": []
    },
    {
      "cell_type": "code",
      "source": [
        "log_returns = log_returns.dropna()"
      ],
      "metadata": {
        "id": "yMjZ3o9FeXDd"
      },
      "execution_count": null,
      "outputs": []
    },
    {
      "cell_type": "code",
      "source": [
        "cov_matrix = log_returns.cov()*252\n",
        "print(cov_matrix)"
      ],
      "metadata": {
        "colab": {
          "base_uri": "https://localhost:8080/"
        },
        "id": "2VwRtPgheqR8",
        "outputId": "dbc204bd-d9c8-4cc7-e657-734189b80df0"
      },
      "execution_count": null,
      "outputs": [
        {
          "output_type": "stream",
          "name": "stdout",
          "text": [
            "          SPY       BND       GLD       QQQ       VTI\n",
            "SPY  0.031233  0.001065  0.001205  0.035937  0.031763\n",
            "BND  0.001065  0.002977  0.002798  0.001384  0.001156\n",
            "GLD  0.001205  0.002798  0.019939  0.001773  0.001312\n",
            "QQQ  0.035937  0.001384  0.001773  0.047856  0.036483\n",
            "VTI  0.031763  0.001156  0.001312  0.036483  0.032567\n"
          ]
        }
      ]
    },
    {
      "cell_type": "code",
      "source": [
        "def standard_deviation(weights, cov_matrix):\n",
        "  variance = weights.T @ cov_matrix @ weights\n",
        "  return np.sqrt(variance)"
      ],
      "metadata": {
        "id": "8FMzm9y8mcna"
      },
      "execution_count": null,
      "outputs": []
    },
    {
      "cell_type": "code",
      "source": [
        "def expected_return(weights, log_returns):\n",
        "  return np.sum(log_returns.mean() * weights) * 252\n"
      ],
      "metadata": {
        "id": "ImVGyz27nVeF"
      },
      "execution_count": null,
      "outputs": []
    },
    {
      "cell_type": "code",
      "source": [
        "def sharpe_ratio(weights, log_returns, cov_matrix,risk_free_return):\n",
        "  return expected_return(weights, log_returns) - risk_free_return / standard_deviation(weights, cov_matrix)\n",
        "#"
      ],
      "metadata": {
        "id": "xrttdKqHnp9v"
      },
      "execution_count": null,
      "outputs": []
    },
    {
      "cell_type": "code",
      "source": [
        "\n"
      ],
      "metadata": {
        "id": "ZnMR8VS-oHpS"
      },
      "execution_count": null,
      "outputs": []
    },
    {
      "cell_type": "code",
      "source": [
        "def neg_sharpe_ratio(weights, log_returns, cov_matrix, risk_free_rate):\n",
        "  return -sharpe_ratio(weights, log_returns, cov_matrix, risk_free_rate)\n",
        "#"
      ],
      "metadata": {
        "id": "H2o77nSVql_y"
      },
      "execution_count": null,
      "outputs": []
    },
    {
      "cell_type": "code",
      "source": [
        "constraints = {'type': 'eq', 'fun': lambda weights: np.sum(weights) - 1}\n",
        "bounds = [(0,0.5) for _ in range(len(tickers))]"
      ],
      "metadata": {
        "id": "QPXD_y0kujMm"
      },
      "execution_count": null,
      "outputs": []
    },
    {
      "cell_type": "code",
      "source": [
        "initial_weights = np.array([1/len(tickers)]* len(tickers))\n",
        "print(initial_weights)"
      ],
      "metadata": {
        "colab": {
          "base_uri": "https://localhost:8080/"
        },
        "id": "8Cq0p8ouveDh",
        "outputId": "4e569ab6-0c87-4536-e071-88384812084b"
      },
      "execution_count": null,
      "outputs": [
        {
          "output_type": "stream",
          "name": "stdout",
          "text": [
            "[0.2 0.2 0.2 0.2 0.2]\n"
          ]
        }
      ]
    },
    {
      "cell_type": "code",
      "source": [
        "optimized_results = minimize(neg_sharpe_ratio, initial_weights, args = (log_returns, cov_matrix, risk_free_rate),\n",
        "                             method = 'SLSQP', bounds = bounds, constraints = constraints)"
      ],
      "metadata": {
        "id": "_62vEa9-v9og"
      },
      "execution_count": null,
      "outputs": []
    },
    {
      "cell_type": "code",
      "source": [
        "optimal_weights = optimized_results.x"
      ],
      "metadata": {
        "id": "5445tsd2wNSn"
      },
      "execution_count": null,
      "outputs": []
    },
    {
      "cell_type": "code",
      "source": [
        "print(\"Optimal_weights: \")\n",
        "\n",
        "for ticker, weight in zip(tickers, optimal_weights):\n",
        "  print(f\"{ticker}: {weight:.4f}\")\n",
        "\n",
        "print()\n",
        "\n",
        "optimal_portfolio_return = expected_return(optimal_weights, log_returns)\n",
        "optimal_portfolio_volatility = standard_deviation(optimal_weights, cov_matrix)\n",
        "optimal_sharpe_ratio = sharpe_ratio(optimal_weights, log_returns, cov_matrix, risk_free_rate)\n",
        "\n",
        "\n",
        "print(f\"Expected Annual Return: {optimal_portfolio_return:.4f}\")\n",
        "print(f\"Expected Volatility: {optimal_portfolio_volatility:.4f}\")\n",
        "print(f\"Sharpe Ratio: {optimal_sharpe_ratio:.4f}\")"
      ],
      "metadata": {
        "colab": {
          "base_uri": "https://localhost:8080/"
        },
        "id": "DdzuGAhdwMji",
        "outputId": "75b5a06e-7b01-452a-dfc3-4b09ec62beb5"
      },
      "execution_count": null,
      "outputs": [
        {
          "output_type": "stream",
          "name": "stdout",
          "text": [
            "Optimal_weights: \n",
            "SPY: 0.2474\n",
            "BND: 0.0000\n",
            "GLD: 0.0000\n",
            "QQQ: 0.5000\n",
            "VTI: 0.2526\n",
            "\n",
            "Expected Annual Return: 0.1460\n",
            "Expected Volatility: 0.1950\n",
            "Sharpe Ratio: -0.0776\n"
          ]
        }
      ]
    },
    {
      "cell_type": "code",
      "source": [
        "import matplotlib.pyplot as plt\n",
        "\n",
        "plt.figure(figsize=(10,6))\n",
        "plt.bar(tickers,optimal_weights)\n",
        "\n",
        "plt.xlabel(\"Assets\")\n",
        "plt.ylabel(\"Optimal weights\")\n",
        "plt.title(\"Optimal Portfolio Weights\")\n",
        "\n",
        "plt.show()"
      ],
      "metadata": {
        "colab": {
          "base_uri": "https://localhost:8080/",
          "height": 564
        },
        "id": "xqzNXBW4x_wv",
        "outputId": "0b4326c8-0ca1-404b-8c45-c3f685d3c758"
      },
      "execution_count": null,
      "outputs": [
        {
          "output_type": "display_data",
          "data": {
            "text/plain": [
              "<Figure size 1000x600 with 1 Axes>"
            ],
            "image/png": "[encoded data removed]"
          },
          "metadata": {}
        }
      ]
    }
  ]
}