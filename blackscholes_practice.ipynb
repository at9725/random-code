{
  "nbformat": 4,
  "nbformat_minor": 0,
  "metadata": {
    "colab": {
      "provenance": []
    },
    "kernelspec": {
      "name": "python3",
      "display_name": "Python 3"
    },
    "language_info": {
      "name": "python"
    }
  },
  "cells": [
    {
      "cell_type": "code",
      "execution_count": null,
      "metadata": {
        "id": "hqomqGukP-vg"
      },
      "outputs": [],
      "source": [
        "import math\n",
        "from scipy.stats import norm"
      ]
    },
    {
      "cell_type": "code",
      "source": [
        "# Define the variable\n",
        "S = 45 # Underlying price\n",
        "K = 40 # Strike price\n",
        "T = 2 # Time to expiration\n",
        "r = 0.1 # Risk-free rate\n",
        "vol = 0.1 # Volatility()"
      ],
      "metadata": {
        "id": "SWOKNwqJQhK8"
      },
      "execution_count": null,
      "outputs": []
    },
    {
      "cell_type": "code",
      "source": [
        "d1 = (math.log(S/K) + (r + 0.5*vol**2)*T)/ (vol* math.sqrt(T))"
      ],
      "metadata": {
        "id": "uu3eig-qZTcW"
      },
      "execution_count": null,
      "outputs": []
    },
    {
      "cell_type": "code",
      "source": [
        "d2 = d1 - (vol* math.sqrt(T))"
      ],
      "metadata": {
        "id": "uly5_zFFaPEN"
      },
      "execution_count": null,
      "outputs": []
    },
    {
      "cell_type": "code",
      "source": [
        "C = S * norm.cdf(d1) - K * math.exp(-r * T) * norm.cdf(d2)"
      ],
      "metadata": {
        "id": "xB8QjTYMbAFt"
      },
      "execution_count": null,
      "outputs": []
    },
    {
      "cell_type": "code",
      "source": [
        "P = K * math.exp(-r * T) * norm.cdf(-d2) - S * norm.cdf(-d1)"
      ],
      "metadata": {
        "id": "qectcRvacCJl"
      },
      "execution_count": null,
      "outputs": []
    },
    {
      "cell_type": "code",
      "source": [
        "print('The value of d1 is: ', round(d1, 4))\n",
        "print(\"The value of d2 is: \", round(d2, 4))\n",
        "print(\"The price of the call option is: $\", round(C, 2))\n",
        "print(\"The price of the put option  is: $\", round(P, 2))"
      ],
      "metadata": {
        "colab": {
          "base_uri": "https://localhost:8080/"
        },
        "id": "s0Brumd2ccj9",
        "outputId": "22ba957c-7949-4e52-9316-dff49853ca68"
      },
      "execution_count": null,
      "outputs": [
        {
          "output_type": "stream",
          "name": "stdout",
          "text": [
            "The value of d1 is:  2.3178\n",
            "The value of d2 is:  2.1764\n",
            "The price of the call option is: $ 12.27\n",
            "The price of the put option  is: $ 0.02\n"
          ]
        }
      ]
    }
  ]
}