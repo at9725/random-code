{
  "nbformat": 4,
  "nbformat_minor": 0,
  "metadata": {
    "colab": {
      "provenance": [],
      "authorship_tag": "ABX9TyNQYnQGswFtZxNDtGCcL+hg",
      "include_colab_link": true
    },
    "kernelspec": {
      "name": "python3",
      "display_name": "Python 3"
    },
    "language_info": {
      "name": "python"
    }
  },
  "cells": [
    {
      "cell_type": "markdown",
      "metadata": {
        "id": "view-in-github",
        "colab_type": "text"
      },
      "source": [
        "<a href=\"https://colab.research.google.com/github/at9725/random-code/blob/main/%22SPY%22%2C_%22BND%22%2C%22GLD%22%2C%22QQQ%22%2C%22VTI%22_VAR_conf_level_analysis.ipynb\" target=\"_parent\"><img src=\"https://colab.research.google.com/assets/colab-badge.svg\" alt=\"Open In Colab\"/></a>"
      ]
    },
    {
      "cell_type": "code",
      "execution_count": null,
      "metadata": {
        "colab": {
          "base_uri": "https://localhost:8080/"
        },
        "id": "JU4TIWCjLHA0",
        "outputId": "9e1e962d-f28c-4b3f-b7ef-1449cb9c1428"
      },
      "outputs": [
        {
          "output_type": "stream",
          "name": "stdout",
          "text": [
            "Requirement already satisfied: matplotlib in /usr/local/lib/python3.10/dist-packages (3.8.0)\n",
            "Requirement already satisfied: contourpy>=1.0.1 in /usr/local/lib/python3.10/dist-packages (from matplotlib) (1.3.1)\n",
            "Requirement already satisfied: cycler>=0.10 in /usr/local/lib/python3.10/dist-packages (from matplotlib) (0.12.1)\n",
            "Requirement already satisfied: fonttools>=4.22.0 in /usr/local/lib/python3.10/dist-packages (from matplotlib) (4.55.3)\n",
            "Requirement already satisfied: kiwisolver>=1.0.1 in /usr/local/lib/python3.10/dist-packages (from matplotlib) (1.4.7)\n",
            "Requirement already satisfied: numpy<2,>=1.21 in /usr/local/lib/python3.10/dist-packages (from matplotlib) (1.26.4)\n",
            "Requirement already satisfied: packaging>=20.0 in /usr/local/lib/python3.10/dist-packages (from matplotlib) (24.2)\n",
            "Requirement already satisfied: pillow>=6.2.0 in /usr/local/lib/python3.10/dist-packages (from matplotlib) (11.0.0)\n",
            "Requirement already satisfied: pyparsing>=2.3.1 in /usr/local/lib/python3.10/dist-packages (from matplotlib) (3.2.0)\n",
            "Requirement already satisfied: python-dateutil>=2.7 in /usr/local/lib/python3.10/dist-packages (from matplotlib) (2.8.2)\n",
            "Requirement already satisfied: six>=1.5 in /usr/local/lib/python3.10/dist-packages (from python-dateutil>=2.7->matplotlib) (1.17.0)\n",
            "Requirement already satisfied: scipy in /usr/local/lib/python3.10/dist-packages (1.13.1)\n",
            "Requirement already satisfied: numpy<2.3,>=1.22.4 in /usr/local/lib/python3.10/dist-packages (from scipy) (1.26.4)\n"
          ]
        }
      ],
      "source": [
        "import numpy as np\n",
        "import pandas as pd\n",
        "import datetime as dt\n",
        "import yfinance as yf\n",
        "!pip install matplotlib\n",
        "!pip install scipy\n",
        "import matplotlib.pyplot as plt\n",
        "from scipy.stats import norm"
      ]
    },
    {
      "cell_type": "code",
      "source": [
        "years =15\n",
        "endDate = dt.datetime.now()\n",
        "\n",
        "startDate = endDate - dt.timedelta(days = 365*years)\n",
        "\n",
        "\n"
      ],
      "metadata": {
        "id": "KJCpjaMzMYTH"
      },
      "execution_count": null,
      "outputs": []
    },
    {
      "cell_type": "code",
      "source": [
        "tickers = [\"SPY\", \"BND\",\"GLD\",\"QQQ\",\"VTI\"]\n"
      ],
      "metadata": {
        "id": "nOCaXNcoMw3O"
      },
      "execution_count": null,
      "outputs": []
    },
    {
      "cell_type": "code",
      "source": [
        "adj_close_df = pd.DataFrame()\n",
        "\n",
        "for ticker in tickers:\n",
        "  data = yf.download(ticker, start=startDate, end = endDate)\n",
        "  adj_close_df[ticker]= data[\"Adj Close\"]\n",
        "\n",
        "print(adj_close_df)"
      ],
      "metadata": {
        "colab": {
          "base_uri": "https://localhost:8080/"
        },
        "id": "30eiLrMKNDRw",
        "outputId": "8b985589-a4d6-4162-d61c-75beab6c8073"
      },
      "execution_count": null,
      "outputs": [
        {
          "output_type": "stream",
          "name": "stderr",
          "text": [
            "[*********************100%***********************]  1 of 1 completed\n",
            "[*********************100%***********************]  1 of 1 completed\n",
            "[*********************100%***********************]  1 of 1 completed\n",
            "[*********************100%***********************]  1 of 1 completed\n",
            "[*********************100%***********************]  1 of 1 completed"
          ]
        },
        {
          "output_type": "stream",
          "name": "stdout",
          "text": [
            "                   SPY        BND         GLD         QQQ         VTI\n",
            "Date                                                                 \n",
            "2010-01-08   86.967712  51.390244  111.370003   40.659740   44.304878\n",
            "2010-01-11   87.089188  51.409779  112.849998   40.493782   44.365944\n",
            "2010-01-12   86.276962  51.605179  110.489998   39.987175   43.907925\n",
            "2010-01-13   87.005646  51.487923  111.540001   40.485062   44.320133\n",
            "2010-01-14   87.240967  51.611698  112.029999   40.519989   44.396473\n",
            "...                ...        ...         ...         ...         ...\n",
            "2024-12-27  595.010010  71.750000  241.399994  522.559998  294.070007\n",
            "2024-12-30  588.219971  72.029999  240.630005  515.609985  290.820007\n",
            "2024-12-31  586.080017  71.910004  242.130005  511.230011  289.809998\n",
            "2025-01-02  584.640015  71.940002  245.419998  510.230011  289.260010\n",
            "2025-01-03  591.950012  71.849998  243.490005  518.580017  293.059998\n",
            "\n",
            "[3772 rows x 5 columns]\n"
          ]
        },
        {
          "output_type": "stream",
          "name": "stderr",
          "text": [
            "\n"
          ]
        }
      ]
    },
    {
      "cell_type": "code",
      "source": [
        "log_returns = np.log(adj_close_df/adj_close_df.shift(1))\n",
        "log_returns = log_returns.dropna()\n",
        "\n",
        "print(log_returns)"
      ],
      "metadata": {
        "colab": {
          "base_uri": "https://localhost:8080/"
        },
        "id": "CuJiEZgaODWQ",
        "outputId": "bb1cde4f-d0a2-40ba-83ab-2cfa4f222e31"
      },
      "execution_count": null,
      "outputs": [
        {
          "output_type": "stream",
          "name": "stdout",
          "text": [
            "                 SPY       BND       GLD       QQQ       VTI\n",
            "Date                                                        \n",
            "2010-01-11  0.001396  0.000380  0.013201 -0.004090  0.001377\n",
            "2010-01-12 -0.009370  0.003794 -0.021134 -0.012590 -0.010377\n",
            "2010-01-13  0.008410 -0.002275  0.009458  0.012374  0.009344\n",
            "2010-01-14  0.002701  0.002401  0.004383  0.000862  0.001721\n",
            "2010-01-15 -0.011288  0.000630 -0.010499 -0.011709 -0.011413\n",
            "...              ...       ...       ...       ...       ...\n",
            "2024-12-27 -0.010582 -0.002088 -0.006894 -0.013382 -0.010890\n",
            "2024-12-30 -0.011477  0.003895 -0.003195 -0.013389 -0.011113\n",
            "2024-12-31 -0.003645 -0.001667  0.006214 -0.008531 -0.003479\n",
            "2025-01-02 -0.002460  0.000417  0.013496 -0.001958 -0.001900\n",
            "2025-01-03  0.012426 -0.001252 -0.007895  0.016233  0.013051\n",
            "\n",
            "[3771 rows x 5 columns]\n"
          ]
        }
      ]
    },
    {
      "cell_type": "code",
      "source": [
        "portfolio_value =  1000000\n",
        "weights = np.array([1/len(tickers)]*len(tickers))\n",
        "print(weights)"
      ],
      "metadata": {
        "colab": {
          "base_uri": "https://localhost:8080/"
        },
        "id": "fwhyPjeuZWMl",
        "outputId": "80d84325-357b-4eec-df79-d06b79473c11"
      },
      "execution_count": null,
      "outputs": [
        {
          "output_type": "stream",
          "name": "stdout",
          "text": [
            "[0.2 0.2 0.2 0.2 0.2]\n"
          ]
        }
      ]
    },
    {
      "cell_type": "code",
      "source": [
        "historical_returns = (log_returns * weights).sum(axis = 1)\n",
        "print(historical_returns)"
      ],
      "metadata": {
        "colab": {
          "base_uri": "https://localhost:8080/"
        },
        "id": "9zRcCcipZnCa",
        "outputId": "8f72954b-208f-405c-cd95-f4aa48b91aa4"
      },
      "execution_count": null,
      "outputs": [
        {
          "output_type": "stream",
          "name": "stdout",
          "text": [
            "Date\n",
            "2010-01-11    0.002453\n",
            "2010-01-12   -0.009936\n",
            "2010-01-13    0.007462\n",
            "2010-01-14    0.002414\n",
            "2010-01-15   -0.008856\n",
            "                ...   \n",
            "2024-12-27   -0.008767\n",
            "2024-12-30   -0.007056\n",
            "2024-12-31   -0.002222\n",
            "2025-01-02    0.001519\n",
            "2025-01-03    0.006513\n",
            "Length: 3771, dtype: float64\n"
          ]
        }
      ]
    },
    {
      "cell_type": "code",
      "source": [
        "days = 5\n",
        "\n",
        "historical_x_day_returns = historical_returns.rolling(window = days).sum()"
      ],
      "metadata": {
        "id": "iuwlxJbsaFHT"
      },
      "execution_count": null,
      "outputs": []
    },
    {
      "cell_type": "code",
      "source": [
        "cov_matrix = log_returns.cov()*252"
      ],
      "metadata": {
        "id": "9J__Y4mgaf62"
      },
      "execution_count": null,
      "outputs": []
    },
    {
      "cell_type": "code",
      "source": [
        "portfolio_std_dev = np.sqrt(weights.T @ cov_matrix @ weights)\n",
        "print(portfolio_std_dev)"
      ],
      "metadata": {
        "colab": {
          "base_uri": "https://localhost:8080/"
        },
        "id": "_B0B7CnFaobg",
        "outputId": "b8dab620-77fa-462c-c9ac-88ffef14fffb"
      },
      "execution_count": null,
      "outputs": [
        {
          "output_type": "stream",
          "name": "stdout",
          "text": [
            "0.11572151141612182\n"
          ]
        }
      ]
    },
    {
      "cell_type": "code",
      "source": [
        "confidence_levels = [0.9, 0.95, 0.99]\n"
      ],
      "metadata": {
        "id": "Qw9IxG3odoJt"
      },
      "execution_count": null,
      "outputs": []
    },
    {
      "cell_type": "code",
      "source": [
        "from scipy.stats import norm\n",
        "\n",
        "VaRs = []\n",
        "\n",
        "for cl in confidence_levels:\n",
        "  VaR = portfolio_value * portfolio_std_dev * norm.ppf(cl) * np.sqrt(days/252)\n",
        "  VaRs.append(VaR)"
      ],
      "metadata": {
        "id": "R0pBsqhZdtbt"
      },
      "execution_count": null,
      "outputs": []
    },
    {
      "cell_type": "code",
      "source": [
        "print(f'{\"Confidence Level\": <20} {\"Value at risk\":<20}')\n",
        "print('-'*40)\n",
        "\n",
        "for cl, VaR in zip(confidence_levels, VaRs):\n",
        "  print(f'{cl*100: > 6.0f}% {\"\":<8} ${VaR:>10,.2f}')"
      ],
      "metadata": {
        "colab": {
          "base_uri": "https://localhost:8080/"
        },
        "id": "vJe6iUiHeamp",
        "outputId": "cb76b72f-480f-4f57-9ce1-3c2fdab97f64"
      },
      "execution_count": null,
      "outputs": [
        {
          "output_type": "stream",
          "name": "stdout",
          "text": [
            "Confidence Level     Value at risk       \n",
            "----------------------------------------\n",
            "    90%          $ 20,889.83\n",
            "    95%          $ 26,811.81\n",
            "    99%          $ 37,920.45\n"
          ]
        }
      ]
    }
  ]
}